{
 "cells": [
  {
   "cell_type": "code",
   "execution_count": 1,
   "metadata": {},
   "outputs": [],
   "source": [
    "import os\n",
    "\n",
    "from dotenv import load_dotenv\n",
    "\n",
    "load_dotenv()\n",
    "\n",
    "endpoint = os.environ[\"AZURE_OPENAI_ENDPOINT\"]\n",
    "api_key = os.environ[\"AZURE_OPENAI_API_KEY\"]\n",
    "deployment = os.environ[\"CHAT_COMPLETIONS_DEPLOYMENT_NAME\"]"
   ]
  },
  {
   "cell_type": "code",
   "execution_count": 2,
   "metadata": {},
   "outputs": [],
   "source": [
    "from openai import AzureOpenAI\n",
    "\n",
    "client = AzureOpenAI(\n",
    "    azure_endpoint=endpoint,\n",
    "    api_version=\"2024-02-01\",\n",
    "    api_key=api_key,\n",
    ")"
   ]
  },
  {
   "cell_type": "code",
   "execution_count": 3,
   "metadata": {},
   "outputs": [
    {
     "name": "stdout",
     "output_type": "stream",
     "text": [
      "{\n",
      "  \"id\": \"chatcmpl-9f1lP5RjiCnx18JCibbGSrGA4rU8d\",\n",
      "  \"choices\": [\n",
      "    {\n",
      "      \"finish_reason\": \"stop\",\n",
      "      \"index\": 0,\n",
      "      \"message\": {\n",
      "        \"content\": \"もちろん、美味しいカレーのレシピを提供します。このレシピは4人分です。\\n\\n必要な材料:\\n- スパイス(クミン、コリアンダー、ターメリックなど): 各1ティースプーン\\n- 鶏もも肉（またはお好みの肉または野菜）: 500グラム\\n- 塩: お好みで\\n- タマネギ: 2つ（中サイズ）\\n- トマト: 2つ（大サイズ）\\n- ニンニク: 2片\\n- 生姜: 1インチのピース\\n- ヨーグルト: カップ1つ\\n- 水: 必要に応じて\\n- カレーパウダー: 2ティースプーン\\n- 油: 2大さじ\\n- 香辛料（カルダモン、シナモン、丁字など）: 適量\\n\\n手順:\\n1. 鍋に油を熱し、香辛料を加えます。すぐに香りが立てば、細かく切ったタマネギを加えてソテーし、金色になるまで炒めます。\\n2. 次に、みじん切りにしたニンニクと生姜を加え、香りが立つまで炒めます。\\n3. それから、カットしたトマトを加え、柔らかくなるまで炒め続けます。\\n4. スパイスとカレーパウダーを加え、すべてがよく混ざるまで炒めます。\\n5. この時点で、鶏肉を加え、すべての肉がカレーペーストで覆われるように混ぜます。\\n6. ヨーグルトを加えて混ぜ、低温で鍋をカバーし20分程度煮込みます。必要に応じて水を追加することもできます。\\n7. 塩を加え、味を調えます。必要に応じてさらに煮込みます。\\n\\n仕上がった美味しいカレーは、ご飯やナン、チャパティと一緒に楽しむことができます。このレシピをお楽しみください。\",\n",
      "        \"role\": \"assistant\"\n",
      "      },\n",
      "      \"content_filter_results\": {\n",
      "        \"hate\": {\n",
      "          \"filtered\": false,\n",
      "          \"severity\": \"safe\"\n",
      "        },\n",
      "        \"self_harm\": {\n",
      "          \"filtered\": false,\n",
      "          \"severity\": \"safe\"\n",
      "        },\n",
      "        \"sexual\": {\n",
      "          \"filtered\": false,\n",
      "          \"severity\": \"safe\"\n",
      "        },\n",
      "        \"violence\": {\n",
      "          \"filtered\": false,\n",
      "          \"severity\": \"safe\"\n",
      "        }\n",
      "      }\n",
      "    }\n",
      "  ],\n",
      "  \"created\": 1719565255,\n",
      "  \"model\": \"gpt-4\",\n",
      "  \"object\": \"chat.completion\",\n",
      "  \"system_fingerprint\": null,\n",
      "  \"usage\": {\n",
      "    \"completion_tokens\": 656,\n",
      "    \"prompt_tokens\": 41,\n",
      "    \"total_tokens\": 697\n",
      "  },\n",
      "  \"prompt_filter_results\": [\n",
      "    {\n",
      "      \"prompt_index\": 0,\n",
      "      \"content_filter_results\": {\n",
      "        \"hate\": {\n",
      "          \"filtered\": false,\n",
      "          \"severity\": \"safe\"\n",
      "        },\n",
      "        \"self_harm\": {\n",
      "          \"filtered\": false,\n",
      "          \"severity\": \"safe\"\n",
      "        },\n",
      "        \"sexual\": {\n",
      "          \"filtered\": false,\n",
      "          \"severity\": \"safe\"\n",
      "        },\n",
      "        \"violence\": {\n",
      "          \"filtered\": false,\n",
      "          \"severity\": \"safe\"\n",
      "        }\n",
      "      }\n",
      "    }\n",
      "  ]\n",
      "}\n"
     ]
    }
   ],
   "source": [
    "completion = client.chat.completions.create(\n",
    "    model=deployment,\n",
    "    messages=[\n",
    "        {\n",
    "            \"role\": \"system\",\n",
    "            \"content\": \"You are an AI assistant that helps people find information.\",\n",
    "        },\n",
    "        {\n",
    "            \"role\": \"user\",\n",
    "            \"content\": \"美味しいカレーのレシピを教えてください。\",\n",
    "        },\n",
    "    ],\n",
    ")\n",
    "\n",
    "print(completion.to_json())"
   ]
  }
 ],
 "metadata": {
  "kernelspec": {
   "display_name": ".venv",
   "language": "python",
   "name": "python3"
  },
  "language_info": {
   "codemirror_mode": {
    "name": "ipython",
    "version": 3
   },
   "file_extension": ".py",
   "mimetype": "text/x-python",
   "name": "python",
   "nbconvert_exporter": "python",
   "pygments_lexer": "ipython3",
   "version": "3.12.1"
  }
 },
 "nbformat": 4,
 "nbformat_minor": 2
}
